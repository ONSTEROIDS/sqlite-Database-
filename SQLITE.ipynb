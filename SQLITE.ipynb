{
 "cells": [
  {
   "cell_type": "code",
   "execution_count": 1,
   "id": "9236ea09-6d2e-4c30-bf91-3ff219542caa",
   "metadata": {},
   "outputs": [],
   "source": [
    "import sqlite3\n",
    "import pandas as pd\n",
    "import matplotlib.pyplot as plt"
   ]
  },
  {
   "cell_type": "code",
   "execution_count": 16,
   "id": "aeda7a51-8b16-4740-a73c-e2207077a8f2",
   "metadata": {},
   "outputs": [
    {
     "data": {
      "text/plain": [
       "<sqlite3.Cursor at 0x213a30150c0>"
      ]
     },
     "execution_count": 16,
     "metadata": {},
     "output_type": "execute_result"
    }
   ],
   "source": [
    "conn = sqlite3.connect(\"sales_data.db\")\n",
    "cursor = conn.cursor()\n",
    "\n",
    "\n",
    "cursor.execute(\"\"\"\n",
    "CREATE TABLE IF NOT EXISTS sales (\n",
    "    id INTEGER PRIMARY KEY AUTOINCREMENT,\n",
    "    product TEXT,\n",
    "    quantity INTEGER,\n",
    "    price REAL\n",
    ")\n",
    "\"\"\")"
   ]
  },
  {
   "cell_type": "code",
   "execution_count": 18,
   "id": "4e669620-5b8a-411a-aa69-0a8cf37edff4",
   "metadata": {},
   "outputs": [],
   "source": [
    "sample_data = [\n",
    "    (\"Apple\", 10, 0.5),\n",
    "    (\"Banana\", 5, 0.3),\n",
    "    (\"Apple\", 20, 0.5),\n",
    "    (\"Orange\", 8, 0.7),\n",
    "    (\"Banana\", 12, 0.3),\n",
    "    (\"Orange\", 15, 0.7),\n",
    "]"
   ]
  },
  {
   "cell_type": "code",
   "execution_count": 20,
   "id": "4cf5ce6e-91b3-4ed7-ad0d-fb607079b86e",
   "metadata": {},
   "outputs": [],
   "source": [
    "cursor.executemany(\"INSERT INTO sales (product, quantity, price) VALUES (?, ?, ?)\", sample_data)\n",
    "conn.commit()"
   ]
  },
  {
   "cell_type": "code",
   "execution_count": 22,
   "id": "184c1f52-1a3e-49bf-9926-9aac0036382d",
   "metadata": {},
   "outputs": [],
   "source": [
    "query = \"\"\"\n",
    "SELECT \n",
    "    product, \n",
    "    SUM(quantity) AS total_quantity, \n",
    "    SUM(quantity * price) AS revenue \n",
    "FROM sales \n",
    "GROUP BY product\n",
    "\"\"\"\n",
    "df = pd.read_sql_query(query, conn)\n",
    "conn.close()"
   ]
  },
  {
   "cell_type": "code",
   "execution_count": 24,
   "id": "0c8bd561-83c3-449f-a624-2cec380ed888",
   "metadata": {},
   "outputs": [
    {
     "name": "stdout",
     "output_type": "stream",
     "text": [
      " Sales Summary:\n",
      "\n",
      "  product  total_quantity  revenue\n",
      "0   Apple              30     15.0\n",
      "1  Banana              17      5.1\n",
      "2  Orange              23     16.1\n"
     ]
    }
   ],
   "source": [
    "print(\" Sales Summary:\\n\")\n",
    "print(df)"
   ]
  },
  {
   "cell_type": "code",
   "execution_count": 26,
   "id": "ddf27eb1-5d14-428f-bb25-c49c5552d796",
   "metadata": {},
   "outputs": [
    {
     "data": {
      "text/plain": [
       "<Figure size 800x500 with 0 Axes>"
      ]
     },
     "metadata": {},
     "output_type": "display_data"
    },
    {
     "data": {
      "image/png": "[encoded data removed]",
      "text/plain": [
       "<Figure size 640x480 with 1 Axes>"
      ]
     },
     "metadata": {},
     "output_type": "display_data"
    }
   ],
   "source": [
    "plt.figure(figsize=(8, 5))\n",
    "df.plot(kind='bar', x='product', y='revenue', legend=False, color='skyblue')\n",
    "plt.title(\"Revenue by Product\")\n",
    "plt.xlabel(\"Product\")\n",
    "plt.ylabel(\"Revenue ($)\")\n",
    "plt.tight_layout()\n",
    "plt.savefig(\"sales_chart.png\")\n",
    "plt.show()"
   ]
  },
  {
   "cell_type": "code",
   "execution_count": null,
   "id": "c57ba83a-fa3b-4e07-a16f-631283e82dab",
   "metadata": {},
   "outputs": [],
   "source": []
  },
  {
   "cell_type": "code",
   "execution_count": null,
   "id": "7d6f173d-f8c3-44e3-aab5-232083e21f85",
   "metadata": {},
   "outputs": [],
   "source": []
  },
  {
   "cell_type": "code",
   "execution_count": null,
   "id": "d57b0a6e-1b59-40fb-82c5-66148ac2452f",
   "metadata": {},
   "outputs": [],
   "source": []
  },
  {
   "cell_type": "code",
   "execution_count": null,
   "id": "2f65350e-61e1-4b48-ab93-d040da1bb9c5",
   "metadata": {},
   "outputs": [],
   "source": []
  },
  {
   "cell_type": "code",
   "execution_count": null,
   "id": "97969fc6-dcf4-49bf-b4d4-7ef0da4e5c20",
   "metadata": {},
   "outputs": [],
   "source": []
  },
  {
   "cell_type": "code",
   "execution_count": null,
   "id": "11af00fd-99fb-4c15-b725-c6ad6729c2c6",
   "metadata": {},
   "outputs": [],
   "source": []
  },
  {
   "cell_type": "code",
   "execution_count": null,
   "id": "8ea90b63-a68c-4ae0-827f-3b9a1a8647a4",
   "metadata": {},
   "outputs": [],
   "source": []
  },
  {
   "cell_type": "code",
   "execution_count": null,
   "id": "8fec72cb-6d55-4b65-998c-73dc7ae34dfb",
   "metadata": {},
   "outputs": [],
   "source": []
  },
  {
   "cell_type": "code",
   "execution_count": null,
   "id": "74ef5bb8-1f56-4b74-81b5-a3bb3bc8484a",
   "metadata": {},
   "outputs": [],
   "source": []
  },
  {
   "cell_type": "code",
   "execution_count": null,
   "id": "44ada175-dedd-46a6-a19d-35c1be07028d",
   "metadata": {},
   "outputs": [],
   "source": []
  },
  {
   "cell_type": "code",
   "execution_count": null,
   "id": "efafa4e3-b267-43bc-9ee8-6db4f4c47648",
   "metadata": {},
   "outputs": [],
   "source": []
  },
  {
   "cell_type": "code",
   "execution_count": null,
   "id": "038363df-f264-4a49-bce8-9bd2bce84088",
   "metadata": {},
   "outputs": [],
   "source": []
  },
  {
   "cell_type": "code",
   "execution_count": null,
   "id": "32d99265-b20c-4139-a4b9-0f73c20d51f2",
   "metadata": {},
   "outputs": [],
   "source": []
  },
  {
   "cell_type": "code",
   "execution_count": null,
   "id": "45edc15a-13c2-4f39-bdd2-cf8870db3675",
   "metadata": {},
   "outputs": [],
   "source": []
  },
  {
   "cell_type": "code",
   "execution_count": null,
   "id": "18597e1d-709e-40f9-bc82-ba62f60e80a4",
   "metadata": {},
   "outputs": [],
   "source": []
  },
  {
   "cell_type": "code",
   "execution_count": null,
   "id": "47140dbc-d947-4bc1-b873-7339d2216940",
   "metadata": {},
   "outputs": [],
   "source": []
  },
  {
   "cell_type": "code",
   "execution_count": null,
   "id": "068ae207-e869-4998-bbd4-a2ed2c8b82da",
   "metadata": {},
   "outputs": [],
   "source": []
  },
  {
   "cell_type": "code",
   "execution_count": null,
   "id": "a0153110-f86b-4b0c-bab7-cd563b2fcd2f",
   "metadata": {},
   "outputs": [],
   "source": []
  },
  {
   "cell_type": "code",
   "execution_count": null,
   "id": "6615c3c5-65f4-4ff7-9189-fbabd68257aa",
   "metadata": {},
   "outputs": [],
   "source": []
  },
  {
   "cell_type": "code",
   "execution_count": null,
   "id": "f1a6521e-e026-47ab-8489-399df0610507",
   "metadata": {},
   "outputs": [],
   "source": []
  },
  {
   "cell_type": "code",
   "execution_count": null,
   "id": "8f4fa788-4ef4-49db-9f3b-fd6873b2f729",
   "metadata": {},
   "outputs": [],
   "source": []
  },
  {
   "cell_type": "code",
   "execution_count": null,
   "id": "21cd9563-9323-475e-abcc-6b7cdd734201",
   "metadata": {},
   "outputs": [],
   "source": []
  },
  {
   "cell_type": "code",
   "execution_count": null,
   "id": "4a3d3b3d-7912-4caf-88b3-7762df8bed0b",
   "metadata": {},
   "outputs": [],
   "source": []
  },
  {
   "cell_type": "code",
   "execution_count": null,
   "id": "7a41cf75-9a6a-47dc-8a5e-895bb22bfcc1",
   "metadata": {},
   "outputs": [],
   "source": []
  }
 ],
 "metadata": {
  "kernelspec": {
   "display_name": "Python 3 (ipykernel)",
   "language": "python",
   "name": "python3"
  },
  "language_info": {
   "codemirror_mode": {
    "name": "ipython",
    "version": 3
   },
   "file_extension": ".py",
   "mimetype": "text/x-python",
   "name": "python",
   "nbconvert_exporter": "python",
   "pygments_lexer": "ipython3",
   "version": "3.12.7"
  }
 },
 "nbformat": 4,
 "nbformat_minor": 5
}
